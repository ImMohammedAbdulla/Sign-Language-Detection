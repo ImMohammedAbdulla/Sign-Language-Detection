{
 "cells": [
  {
   "cell_type": "code",
   "execution_count": 2,
   "id": "5d2532e8",
   "metadata": {},
   "outputs": [],
   "source": [
    "import cv2 as cv\n",
    "import numpy as np\n",
    "import os\n",
    "from matplotlib import pyplot as plt\n",
    "import time\n",
    "import mediapipe as mp"
   ]
  },
  {
   "cell_type": "code",
   "execution_count": 3,
   "id": "7a0190d0",
   "metadata": {},
   "outputs": [],
   "source": [
    "mp_holistic = mp.solutions.holistic\n",
    "mp_drawing = mp.solutions.drawing_utils"
   ]
  },
  {
   "cell_type": "code",
   "execution_count": 4,
   "id": "59efebb8",
   "metadata": {},
   "outputs": [],
   "source": [
    "def mediapipe_detection(image,model):\n",
    "    image = cv.cvtColor(image,cv.COLOR_BGR2RGB)\n",
    "    image.flags.writeable = False\n",
    "    results = model.process(image)\n",
    "    image.flags.writeable = True\n",
    "    image = cv.cvtColor(image,cv.COLOR_RGB2BGR)\n",
    "    return image,results"
   ]
  },
  {
   "cell_type": "code",
   "execution_count": 5,
   "id": "2ea1e039",
   "metadata": {},
   "outputs": [],
   "source": [
    "def draw_landmarks(image,results):\n",
    "    mp_drawing.draw_landmarks(image,results.face_landmarks,mp_holistic.FACEMESH_TESSELATION)\n",
    "    mp_drawing.draw_landmarks(image,results.pose_landmarks,mp_holistic.POSE_CONNECTIONS)    \n",
    "    mp_drawing.draw_landmarks(image,results.left_hand_landmarks,mp_holistic.HAND_CONNECTIONS)    \n",
    "    mp_drawing.draw_landmarks(image,results.right_hand_landmarks,mp_holistic.HAND_CONNECTIONS)    "
   ]
  },
  {
   "cell_type": "code",
   "execution_count": null,
   "id": "599c7e6b",
   "metadata": {
    "scrolled": true
   },
   "outputs": [],
   "source": [
    "capture = cv.VideoCapture(0)\n",
    "with mp_holistic.Holistic(min_detection_confidence = 0.5,min_tracking_confidence = 0.5) as holistic:\n",
    "    while capture.isOpened():\n",
    "\n",
    "        ret, frame = capture.read()\n",
    "\n",
    "        image,results = mediapipe_detection(frame,holistic)\n",
    "        print(results)\n",
    "        \n",
    "        draw_landmarks(image,results)\n",
    "        \n",
    "        if ret==True:\n",
    "            cv.imshow('video',image)\n",
    "\n",
    "            if cv.waitKey(20) & 0xFF == ord('q'):\n",
    "                break\n",
    "\n",
    "    capture.release()\n",
    "    cv.destroyAllWindows()"
   ]
  },
  {
   "cell_type": "markdown",
   "id": "8d171be2",
   "metadata": {},
   "source": [
    "## Extract Keypoint Values"
   ]
  },
  {
   "cell_type": "code",
   "execution_count": 6,
   "id": "36bb3d06",
   "metadata": {},
   "outputs": [],
   "source": [
    "def extract_landmarks(results):\n",
    "    pose = np.array([[res.x , res.y , res.z , res.visibility] for res in results.pose_landmarks.landmark]).flatten() if results.pose_landmarks else np.zeros(132)\n",
    "    face = np.array([[res.x , res.y , res.z ] for res in results.face_landmarks.landmark]).flatten() if results.face_landmarks else np.zeros(1404)\n",
    "    lh = np.array([[res.x , res.y , res.z] for res in results.left_hand_landmarks.landmark]).flatten() if results.left_hand_landmarks else np.zeros(63)\n",
    "    rh = np.array([[res.x , res.y , res.z] for res in results.right_hand_landmarks.landmark]).flatten() if results.right_hand_landmarks else np.zeros(63)\n",
    "    return np.concatenate([pose,face,lh,rh])"
   ]
  },
  {
   "cell_type": "code",
   "execution_count": null,
   "id": "c11613af",
   "metadata": {},
   "outputs": [],
   "source": [
    "result_test = extract_landmarks(results)"
   ]
  },
  {
   "cell_type": "code",
   "execution_count": null,
   "id": "8e8f6fde",
   "metadata": {},
   "outputs": [],
   "source": [
    "print(result_test)"
   ]
  },
  {
   "cell_type": "code",
   "execution_count": null,
   "id": "03fab050",
   "metadata": {},
   "outputs": [],
   "source": [
    "np.save('0',result_test)"
   ]
  },
  {
   "cell_type": "code",
   "execution_count": null,
   "id": "d1e457fe",
   "metadata": {},
   "outputs": [],
   "source": [
    "np.load('0.npy')"
   ]
  },
  {
   "cell_type": "markdown",
   "id": "9b3aef72",
   "metadata": {},
   "source": [
    "# Setup Folders For Collection"
   ]
  },
  {
   "cell_type": "code",
   "execution_count": 7,
   "id": "48d2f65d",
   "metadata": {},
   "outputs": [],
   "source": [
    "#path for exported data \n",
    "DATA_PATH = os.path.join(\"MP_DATA\")\n",
    "\n",
    "#actions that we try to detect\n",
    "actions = np.array(['hello','thanks','iloveyou'])\n",
    "\n",
    "#thirty videos worth of data\n",
    "no_sequences = 30\n",
    "\n",
    "#videos are going to be 30 frames in length\n",
    "sequence_length = 30"
   ]
  },
  {
   "cell_type": "code",
   "execution_count": 8,
   "id": "23f195eb",
   "metadata": {},
   "outputs": [],
   "source": [
    "for action in actions:\n",
    "    for sequence in range(no_sequences):\n",
    "        try:\n",
    "            os.makedirs(os.path.join(DATA_PATH,action,str(sequence)))\n",
    "        except:\n",
    "            pass"
   ]
  },
  {
   "cell_type": "markdown",
   "id": "da4560b8",
   "metadata": {},
   "source": [
    "# Collecting keypoints for training and testing"
   ]
  },
  {
   "cell_type": "code",
   "execution_count": null,
   "id": "e1cbc591",
   "metadata": {},
   "outputs": [],
   "source": [
    "capture = cv.VideoCapture(0)\n",
    "with mp_holistic.Holistic(min_detection_confidence = 0.5,min_tracking_confidence = 0.5) as holistic:\n",
    "    \n",
    "    for action in actions:\n",
    "        for sequence in range(no_sequences):\n",
    "            for frame_no in range(sequence_length):\n",
    "\n",
    "                ret, frame = capture.read()\n",
    "\n",
    "                image,results = mediapipe_detection(frame,holistic)\n",
    "                print(results)\n",
    "\n",
    "                draw_landmarks(image,results)\n",
    "                \n",
    "                if frame_no == 0:\n",
    "                    cv.putText(image,'Starting collection',(120,200),cv.FONT_HERSHEY_SIMPLEX,1,(0,255,0),4,cv.LINE_AA)\n",
    "                    cv.putText(image,'collecting frames {} for the sequence {} '.format(action,sequence),(15,12),cv.FONT_HERSHEY_SIMPLEX,0.5,(0,0,255),4,cv.LINE_AA)\n",
    "                    cv.waitKey(2000)\n",
    "                else:\n",
    "                    cv.putText(image,'collecting frames {} for the sequence {} '.format(action,sequence),(15,12),cv.FONT_HERSHEY_SIMPLEX,0.5,(0,0,255),4,cv.LINE_AA)\n",
    "                    \n",
    "                keypoints = extract_landmarks(results)\n",
    "                npy_path = os.path.join(DATA_PATH , action , str(sequence),str(frame_no))\n",
    "                np.save(npy_path,keypoints)\n",
    "                \n",
    "                if ret==True:\n",
    "                    cv.imshow('video',image)\n",
    "\n",
    "                if cv.waitKey(20) & 0xFF == ord('q'):\n",
    "                    break\n",
    "\n",
    "    capture.release()\n",
    "    cv.destroyAllWindows()"
   ]
  },
  {
   "cell_type": "markdown",
   "id": "5c6ebbbd",
   "metadata": {},
   "source": [
    "# Preprocess data and create labels and features"
   ]
  },
  {
   "cell_type": "code",
   "execution_count": 9,
   "id": "4945e962",
   "metadata": {},
   "outputs": [],
   "source": [
    "from sklearn.model_selection import train_test_split\n",
    "from tensorflow.keras.utils import to_categorical"
   ]
  },
  {
   "cell_type": "code",
   "execution_count": 10,
   "id": "b0c9baf2",
   "metadata": {},
   "outputs": [],
   "source": [
    "label_map = {label:num for num, label in enumerate(actions)}"
   ]
  },
  {
   "cell_type": "code",
   "execution_count": 11,
   "id": "c6ed7e52",
   "metadata": {},
   "outputs": [
    {
     "data": {
      "text/plain": [
       "{'hello': 0, 'thanks': 1, 'iloveyou': 2}"
      ]
     },
     "execution_count": 11,
     "metadata": {},
     "output_type": "execute_result"
    }
   ],
   "source": [
    "label_map"
   ]
  },
  {
   "cell_type": "code",
   "execution_count": 12,
   "id": "6d68eaa3",
   "metadata": {},
   "outputs": [],
   "source": [
    "sequences,labels = [],[]\n",
    "for action in actions:\n",
    "    for sequence in range(no_sequences):\n",
    "        window = []\n",
    "        for frame_no in range(sequence_length):\n",
    "            res = np.load(os.path.join(DATA_PATH,action,str(sequence),\"{}.npy\".format(frame_no)))\n",
    "            window.append(res)\n",
    "        sequences.append(window)\n",
    "        labels.append(label_map[action])"
   ]
  },
  {
   "cell_type": "code",
   "execution_count": 13,
   "id": "fe136acc",
   "metadata": {},
   "outputs": [
    {
     "data": {
      "text/plain": [
       "(90, 30, 1662)"
      ]
     },
     "execution_count": 13,
     "metadata": {},
     "output_type": "execute_result"
    }
   ],
   "source": [
    "x = np.array(sequences)\n",
    "x.shape"
   ]
  },
  {
   "cell_type": "code",
   "execution_count": 14,
   "id": "65dd8ef3",
   "metadata": {},
   "outputs": [
    {
     "data": {
      "text/plain": [
       "(90, 3)"
      ]
     },
     "execution_count": 14,
     "metadata": {},
     "output_type": "execute_result"
    }
   ],
   "source": [
    "y = to_categorical(labels).astype(int)\n",
    "y.shape"
   ]
  },
  {
   "cell_type": "code",
   "execution_count": 15,
   "id": "5de7ccf0",
   "metadata": {},
   "outputs": [],
   "source": [
    "x_train,x_test,y_train,y_test = train_test_split(x,y,test_size=.05)"
   ]
  },
  {
   "cell_type": "code",
   "execution_count": null,
   "id": "d694b21b",
   "metadata": {},
   "outputs": [],
   "source": [
    "y_train.shape,y_test.shape"
   ]
  },
  {
   "cell_type": "markdown",
   "id": "16fae117",
   "metadata": {},
   "source": [
    "# Build and Train LSTM Neural Network"
   ]
  },
  {
   "cell_type": "code",
   "execution_count": null,
   "id": "7416247b",
   "metadata": {},
   "outputs": [],
   "source": [
    "from tensorflow.keras.models import Sequential\n",
    "from tensorflow.keras.layers import LSTM , Dense\n",
    "from tensorflow.keras.callbacks import TensorBoard"
   ]
  },
  {
   "cell_type": "code",
   "execution_count": null,
   "id": "c4ee9a2f",
   "metadata": {},
   "outputs": [],
   "source": [
    "log_dir = os.path.join('Logs')\n",
    "tb_callback = TensorBoard(log_dir=log_dir)"
   ]
  },
  {
   "cell_type": "code",
   "execution_count": null,
   "id": "576cd265",
   "metadata": {},
   "outputs": [],
   "source": [
    "model = Sequential()\n",
    "model.add(LSTM(64,return_sequences=True,activation='relu',input_shape=(30,1662)))\n",
    "model.add(LSTM(128,return_sequences=True,activation='relu'))\n",
    "model.add(LSTM(64,return_sequences=False,activation='relu'))\n",
    "model.add(Dense(64,activation='relu'))\n",
    "model.add(Dense(32,activation='relu'))\n",
    "model.add(Dense(actions.shape[0],activation='softmax'))"
   ]
  },
  {
   "cell_type": "code",
   "execution_count": null,
   "id": "b2641fa1",
   "metadata": {},
   "outputs": [],
   "source": [
    "res = [0.7,0.2,0.1]\n",
    "actions[np.argmax(res)]         #sample working of model"
   ]
  },
  {
   "cell_type": "code",
   "execution_count": null,
   "id": "4e70dc3e",
   "metadata": {},
   "outputs": [],
   "source": [
    "model.compile(optimizer='Adam',loss='categorical_crossentropy',metrics=['categorical_accuracy'])"
   ]
  },
  {
   "cell_type": "code",
   "execution_count": null,
   "id": "2b1ea29d",
   "metadata": {},
   "outputs": [],
   "source": [
    "model.fit(x_train, y_train, epochs=2000, callbacks=[tb_callback])"
   ]
  },
  {
   "cell_type": "code",
   "execution_count": null,
   "id": "de49e365",
   "metadata": {},
   "outputs": [],
   "source": [
    "model.summary()"
   ]
  },
  {
   "cell_type": "code",
   "execution_count": 22,
   "id": "108a9680",
   "metadata": {},
   "outputs": [
    {
     "name": "stdout",
     "output_type": "stream",
     "text": [
      "1/1 [==============================] - 1s 672ms/step\n"
     ]
    }
   ],
   "source": [
    "res = model.predict(x_test)"
   ]
  },
  {
   "cell_type": "code",
   "execution_count": null,
   "id": "2f94c48d",
   "metadata": {},
   "outputs": [],
   "source": [
    "actions[np.argmax(res[2])]"
   ]
  },
  {
   "cell_type": "code",
   "execution_count": null,
   "id": "f115a729",
   "metadata": {},
   "outputs": [],
   "source": [
    "actions[np.argmax(y_test[2])]"
   ]
  },
  {
   "cell_type": "code",
   "execution_count": null,
   "id": "8da82838",
   "metadata": {
    "scrolled": true
   },
   "outputs": [],
   "source": [
    "model.save('action.h5')"
   ]
  },
  {
   "cell_type": "code",
   "execution_count": 23,
   "id": "b946ae99",
   "metadata": {},
   "outputs": [
    {
     "data": {
      "text/plain": [
       "array([[3.1475742e-25, 9.9924135e-01, 7.5868383e-04],\n",
       "       [2.2690001e-27, 9.9988353e-01, 1.1645824e-04],\n",
       "       [1.1666619e-03, 7.6626751e-16, 9.9883336e-01],\n",
       "       [1.4998470e-15, 9.5194709e-01, 4.8052944e-02],\n",
       "       [3.3397790e-10, 1.9160666e-11, 1.0000000e+00]], dtype=float32)"
      ]
     },
     "execution_count": 23,
     "metadata": {},
     "output_type": "execute_result"
    }
   ],
   "source": [
    "res"
   ]
  },
  {
   "cell_type": "markdown",
   "id": "dacd2af9",
   "metadata": {},
   "source": [
    "# evaluating using confusion matrix"
   ]
  },
  {
   "cell_type": "code",
   "execution_count": null,
   "id": "ab0f7b2e",
   "metadata": {},
   "outputs": [],
   "source": [
    "from sklearn.metrics import multilabel_confusion_matrix , accuracy_score"
   ]
  },
  {
   "cell_type": "code",
   "execution_count": null,
   "id": "c999ea25",
   "metadata": {},
   "outputs": [],
   "source": [
    "yhat = model.predict(x_test)"
   ]
  },
  {
   "cell_type": "code",
   "execution_count": null,
   "id": "70d2dc6e",
   "metadata": {},
   "outputs": [],
   "source": [
    "ytrue = np.argmax(y_test,axis=1).tolist()\n",
    "yhat = np.argmax(yhat,axis=1).tolist()"
   ]
  },
  {
   "cell_type": "code",
   "execution_count": null,
   "id": "41ef6641",
   "metadata": {},
   "outputs": [],
   "source": [
    "multilabel_confusion_matrix(ytrue,yhat)"
   ]
  },
  {
   "cell_type": "code",
   "execution_count": null,
   "id": "3a3d7e03",
   "metadata": {},
   "outputs": [],
   "source": [
    "accuracy_score(ytrue,yhat)"
   ]
  },
  {
   "cell_type": "markdown",
   "id": "3fb11a76",
   "metadata": {},
   "source": [
    "# Testing in Real Time"
   ]
  },
  {
   "cell_type": "code",
   "execution_count": 19,
   "id": "2aa12cd3",
   "metadata": {},
   "outputs": [],
   "source": [
    "import tensorflow\n",
    "model = tensorflow.keras.models.load_model('action.h5')"
   ]
  },
  {
   "cell_type": "code",
   "execution_count": 21,
   "id": "6cb92e9d",
   "metadata": {},
   "outputs": [],
   "source": [
    "colors = [(245,117,16),(117,245,16),(16,117,245)]\n",
    "def prob_viz(res,actions,input_frame,colors):\n",
    "    output_frame = input_frame.copy()\n",
    "    for num,prob in enumerate(res):\n",
    "        cv.rectangle(output_frame,(0,60+num*40),(int(prob*100),90+num*40),colors[num],-1)\n",
    "        cv.putText(output_frame,actions[num],(0,85+num*40),cv.FONT_HERSHEY_SIMPLEX,1,(255,255,255),2,cv.LINE_AA)\n",
    "        \n",
    "    return output_frame"
   ]
  },
  {
   "cell_type": "code",
   "execution_count": 34,
   "id": "08cd77c4",
   "metadata": {
    "scrolled": true
   },
   "outputs": [
    {
     "name": "stdout",
     "output_type": "stream",
     "text": [
      "[0.31654367 0.38543078 0.2980256 ]\n"
     ]
    },
    {
     "data": {
      "text/plain": [
       "(3, None)"
      ]
     },
     "execution_count": 34,
     "metadata": {},
     "output_type": "execute_result"
    }
   ],
   "source": [
    "len(res) ,print(res)"
   ]
  },
  {
   "cell_type": "code",
   "execution_count": 33,
   "id": "797b54ab",
   "metadata": {},
   "outputs": [
    {
     "data": {
      "text/plain": [
       "array([0.31654367, 0.38543078, 0.2980256 ], dtype=float32)"
      ]
     },
     "execution_count": 33,
     "metadata": {},
     "output_type": "execute_result"
    }
   ],
   "source": [
    "res"
   ]
  },
  {
   "cell_type": "code",
   "execution_count": 35,
   "id": "a24e0802",
   "metadata": {
    "collapsed": true
   },
   "outputs": [
    {
     "name": "stdout",
     "output_type": "stream",
     "text": [
      "1/1 [==============================] - 0s 41ms/step\n",
      "iloveyou\n",
      "1/1 [==============================] - 0s 43ms/step\n",
      "iloveyou\n",
      "1/1 [==============================] - 0s 40ms/step\n",
      "iloveyou\n",
      "1/1 [==============================] - 0s 38ms/step\n",
      "iloveyou\n",
      "1/1 [==============================] - 0s 39ms/step\n",
      "iloveyou\n",
      "1/1 [==============================] - 0s 35ms/step\n",
      "iloveyou\n",
      "1/1 [==============================] - 0s 39ms/step\n",
      "iloveyou\n",
      "1/1 [==============================] - 0s 39ms/step\n",
      "iloveyou\n",
      "1/1 [==============================] - 0s 43ms/step\n",
      "iloveyou\n",
      "1/1 [==============================] - 0s 39ms/step\n",
      "hello\n",
      "1/1 [==============================] - 0s 41ms/step\n",
      "hello\n",
      "1/1 [==============================] - 0s 40ms/step\n",
      "hello\n",
      "1/1 [==============================] - 0s 41ms/step\n",
      "iloveyou\n",
      "1/1 [==============================] - 0s 40ms/step\n",
      "iloveyou\n",
      "1/1 [==============================] - 0s 40ms/step\n",
      "iloveyou\n",
      "1/1 [==============================] - 0s 41ms/step\n",
      "iloveyou\n",
      "1/1 [==============================] - 0s 39ms/step\n",
      "iloveyou\n",
      "1/1 [==============================] - 0s 39ms/step\n",
      "iloveyou\n",
      "1/1 [==============================] - 0s 43ms/step\n",
      "iloveyou\n",
      "1/1 [==============================] - 0s 43ms/step\n",
      "iloveyou\n",
      "1/1 [==============================] - 0s 38ms/step\n",
      "iloveyou\n",
      "1/1 [==============================] - 0s 40ms/step\n",
      "iloveyou\n",
      "1/1 [==============================] - 0s 43ms/step\n",
      "iloveyou\n",
      "1/1 [==============================] - 0s 36ms/step\n",
      "iloveyou\n",
      "1/1 [==============================] - 0s 38ms/step\n",
      "iloveyou\n",
      "1/1 [==============================] - 0s 44ms/step\n",
      "iloveyou\n",
      "1/1 [==============================] - 0s 37ms/step\n",
      "iloveyou\n",
      "1/1 [==============================] - 0s 40ms/step\n",
      "iloveyou\n",
      "1/1 [==============================] - 0s 36ms/step\n",
      "iloveyou\n",
      "1/1 [==============================] - 0s 36ms/step\n",
      "iloveyou\n",
      "1/1 [==============================] - 0s 41ms/step\n",
      "hello\n",
      "1/1 [==============================] - 0s 39ms/step\n",
      "iloveyou\n",
      "1/1 [==============================] - 0s 38ms/step\n",
      "iloveyou\n",
      "1/1 [==============================] - 0s 40ms/step\n",
      "iloveyou\n",
      "1/1 [==============================] - 0s 40ms/step\n",
      "iloveyou\n",
      "1/1 [==============================] - 0s 41ms/step\n",
      "iloveyou\n",
      "1/1 [==============================] - 0s 43ms/step\n",
      "iloveyou\n",
      "1/1 [==============================] - 0s 39ms/step\n",
      "iloveyou\n",
      "1/1 [==============================] - 0s 35ms/step\n",
      "iloveyou\n",
      "1/1 [==============================] - 0s 40ms/step\n",
      "iloveyou\n",
      "1/1 [==============================] - 0s 39ms/step\n",
      "iloveyou\n",
      "1/1 [==============================] - 0s 40ms/step\n",
      "iloveyou\n",
      "1/1 [==============================] - 0s 39ms/step\n",
      "iloveyou\n",
      "1/1 [==============================] - 0s 37ms/step\n",
      "iloveyou\n",
      "1/1 [==============================] - 0s 37ms/step\n",
      "iloveyou\n",
      "1/1 [==============================] - 0s 38ms/step\n",
      "iloveyou\n",
      "1/1 [==============================] - 0s 40ms/step\n",
      "iloveyou\n",
      "1/1 [==============================] - 0s 38ms/step\n",
      "iloveyou\n",
      "1/1 [==============================] - 0s 37ms/step\n",
      "iloveyou\n",
      "1/1 [==============================] - 0s 41ms/step\n",
      "iloveyou\n",
      "1/1 [==============================] - 0s 36ms/step\n",
      "iloveyou\n",
      "1/1 [==============================] - 0s 52ms/step\n",
      "iloveyou\n",
      "1/1 [==============================] - 0s 38ms/step\n",
      "iloveyou\n",
      "1/1 [==============================] - 0s 39ms/step\n",
      "iloveyou\n",
      "1/1 [==============================] - 0s 40ms/step\n",
      "iloveyou\n",
      "1/1 [==============================] - 0s 38ms/step\n",
      "iloveyou\n",
      "1/1 [==============================] - 0s 39ms/step\n",
      "iloveyou\n",
      "1/1 [==============================] - 0s 42ms/step\n",
      "iloveyou\n",
      "1/1 [==============================] - 0s 39ms/step\n",
      "iloveyou\n",
      "1/1 [==============================] - 0s 41ms/step\n",
      "iloveyou\n",
      "1/1 [==============================] - 0s 37ms/step\n",
      "iloveyou\n"
     ]
    }
   ],
   "source": [
    "sequence = []\n",
    "sentence = []\n",
    "threshold = 0.7\n",
    "\n",
    "capture = cv.VideoCapture(0)\n",
    "with mp_holistic.Holistic(min_detection_confidence = 0.5,min_tracking_confidence = 0.5) as holistic:\n",
    "    while capture.isOpened():\n",
    "\n",
    "        ret, frame = capture.read()\n",
    "\n",
    "        image,results = mediapipe_detection(frame,holistic)\n",
    "#         print(results)\n",
    "        \n",
    "        draw_landmarks(image,results)\n",
    "        \n",
    "        keypoints = extract_landmarks(results)\n",
    "        sequence.append(keypoints)\n",
    "#         sequence.insert(0,keypoints)\n",
    "        sequence = sequence[-30:]\n",
    "        \n",
    "        if len(sequence) == 30:\n",
    "            res = model.predict(np.expand_dims(sequence,axis=0))[0]\n",
    "            print(actions[np.argmax(res)])\n",
    "            \n",
    "        if res[np.argmax(res)] > threshold:\n",
    "            if len(sentence) > 0:\n",
    "                if actions[np.argmax(res)] != sentence[-1]:\n",
    "                    sentence.append(actions[np.argmax(res)])\n",
    "            else:\n",
    "                sentence.append(actions[np.argmax(res)])\n",
    "                    \n",
    "        if len(sentence) >5:\n",
    "            sentence = sentence[-5:]\n",
    "            \n",
    "        image = prob_viz(res,actions,image,colors)\n",
    "        \n",
    "        cv.rectangle(image,(0,0),(640,40),(245,117,16),-1)\n",
    "        cv.putText(image,' '.join(sentence),(3,30),cv.FONT_HERSHEY_SIMPLEX,1,(255,255,255),2,cv.LINE_AA)\n",
    "            \n",
    "        if ret==True:\n",
    "            cv.imshow('video',image)\n",
    "\n",
    "            if cv.waitKey(20) & 0xFF == ord('q'):\n",
    "                break\n",
    "\n",
    "    capture.release()\n",
    "    cv.destroyAllWindows()"
   ]
  },
  {
   "cell_type": "code",
   "execution_count": 31,
   "id": "6b437d25",
   "metadata": {},
   "outputs": [],
   "source": [
    "capture.release()\n",
    "cv.destroyAllWindows()"
   ]
  }
 ],
 "metadata": {
  "kernelspec": {
   "display_name": "Python 3 (ipykernel)",
   "language": "python",
   "name": "python3"
  },
  "language_info": {
   "codemirror_mode": {
    "name": "ipython",
    "version": 3
   },
   "file_extension": ".py",
   "mimetype": "text/x-python",
   "name": "python",
   "nbconvert_exporter": "python",
   "pygments_lexer": "ipython3",
   "version": "3.8.0"
  }
 },
 "nbformat": 4,
 "nbformat_minor": 5
}
